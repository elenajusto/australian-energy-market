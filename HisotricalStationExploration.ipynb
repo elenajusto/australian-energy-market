{
 "cells": [
  {
   "cell_type": "code",
   "execution_count": 2,
   "metadata": {},
   "outputs": [],
   "source": [
    "# This notebook wil explore the dataset containing information on accredited Renewable Energy Target power stations\n",
    "# That were accredited and installed from 2001 to 2022\n",
    "# The dataset was provided by the Clean Energy Regulator (CER)\n",
    "# Link to the dataset: https://www.cleanenergyregulator.gov.au/RET/About-the-Renewable-Energy-Target/Large-scale-Renewable-Energy-Target-market-data/large-scale-renewable-energy-target-supply-data/historical-large-scale-renewable-energy-target-supply-data#accredited-power-stations-data"
   ]
  }
 ],
 "metadata": {
  "kernelspec": {
   "display_name": "base",
   "language": "python",
   "name": "python3"
  },
  "language_info": {
   "codemirror_mode": {
    "name": "ipython",
    "version": 3
   },
   "file_extension": ".py",
   "mimetype": "text/x-python",
   "name": "python",
   "nbconvert_exporter": "python",
   "pygments_lexer": "ipython3",
   "version": "3.11.3"
  }
 },
 "nbformat": 4,
 "nbformat_minor": 2
}
